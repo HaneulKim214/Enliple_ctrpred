{
 "cells": [
  {
   "cell_type": "code",
   "execution_count": null,
   "metadata": {},
   "outputs": [],
   "source": [
    "import joblib\n",
    "import numpy as np\n",
    "import pandas as pd\n",
    "import pickle\n",
    "import pymysql\n",
    "\n",
    "from sklearn.compose import make_column_transformer\n",
    "from sklearn.linear_model import LogisticRegression\n",
    "from sklearn.metrics import mean_squared_error, accuracy_score, roc_auc_score, confusion_matrix, plot_confusion_matrix\n",
    "from sklearn.model_selection import train_test_split, cross_val_score, KFold, learning_curve\n",
    "from sklearn.pipeline import make_pipeline\n",
    "from sklearn.preprocessing import OrdinalEncoder, OneHotEncoder, StandardScaler\n",
    "from sqlalchemy import create_engine\n",
    "from sqlalchemy.orm import sessionmaker\n",
    "\n",
    "from preprocessing.imbalanced_label import BinaryImbClsRS"
   ]
  },
  {
   "cell_type": "code",
   "execution_count": null,
   "metadata": {},
   "outputs": [],
   "source": [
    "df = pd.read_csv(\"../../example_data/CW_MEDIA_CLICKVIEW_LOG_CTR_데이터_추출1.csv\")"
   ]
  },
  {
   "cell_type": "code",
   "execution_count": null,
   "metadata": {},
   "outputs": [],
   "source": [
    "col_order = [\"createdDate\", \"mediaId\", \"inventoryId\", \"adverId\", \"adType\", \"frameId\", \"auid\", \"logType\", # ordered\n",
    "             #not ordered for now \n",
    "             \"adProduct\", \"adCampain\", \"productCode\", \"cpoint\", \"mpoint\",\n",
    "             'remoteIp', 'platform', 'device', 'browser', 'freqLog',\n",
    "             'tTime', 'kno', 'kwrdSeq', 'gender', 'age', 'osCode', 'price',\n",
    "             'frameCombiKey'\n",
    "            ]\n",
    "df = df[col_order]"
   ]
  },
  {
   "cell_type": "markdown",
   "metadata": {},
   "source": [
    "## EDA"
   ]
  },
  {
   "cell_type": "code",
   "execution_count": null,
   "metadata": {},
   "outputs": [],
   "source": [
    "# df.groupby([\"logType\"]).count()"
   ]
  },
  {
   "cell_type": "code",
   "execution_count": null,
   "metadata": {},
   "outputs": [],
   "source": [
    "# (df.nunique()\n",
    "#    .to_frame()\n",
    "#    .rename(columns={0:\"# unique values\"})\n",
    "#    .T\n",
    "# )"
   ]
  },
  {
   "cell_type": "code",
   "execution_count": null,
   "metadata": {},
   "outputs": [],
   "source": [
    "# # When logType=V : W,M\n",
    "# #              C : '7|14', '12|57', etc...\n",
    "# df[\"gender\"].unique()"
   ]
  },
  {
   "cell_type": "code",
   "execution_count": null,
   "metadata": {},
   "outputs": [],
   "source": [
    "# # When logType=V : v, u, t, s, etc...\n",
    "# #              C : '7|14', '12|57', etc...\n",
    "# df.loc[df[\"logType\"] == \"V\"][\"age\"].unique()"
   ]
  },
  {
   "cell_type": "code",
   "execution_count": null,
   "metadata": {},
   "outputs": [],
   "source": [
    "# (df.loc[(df[\"mediaId\"] == \"mmediaseoul\") &\n",
    "#        (df[\"inventoryId\"] == 18232) &\n",
    "#        (df[\"adverId\"] == \"reebok1\")]\n",
    "#    .loc[\"2021-11-07 11:00:00\":\"2021-11-07 11:11:00\"])"
   ]
  },
  {
   "cell_type": "markdown",
   "metadata": {},
   "source": [
    "## Preprocess"
   ]
  },
  {
   "cell_type": "code",
   "execution_count": null,
   "metadata": {},
   "outputs": [],
   "source": [
    "# use remoteIp to get city or town, etc...\n",
    "# df[\"city\"]"
   ]
  },
  {
   "cell_type": "markdown",
   "metadata": {},
   "source": [
    "### Missing value imputation"
   ]
  },
  {
   "cell_type": "code",
   "execution_count": null,
   "metadata": {},
   "outputs": [],
   "source": [
    "# # Column별 Missing Value 비율\n",
    "# round(df.isna().sum()/len(df)*100, 2)"
   ]
  },
  {
   "cell_type": "code",
   "execution_count": null,
   "metadata": {},
   "outputs": [],
   "source": [
    "df.replace(\"NONE\", np.nan, inplace=True)\n",
    "df.dropna(subset=[\"gender\", \"age\"],inplace=True)"
   ]
  },
  {
   "cell_type": "markdown",
   "metadata": {},
   "source": [
    "### Date related"
   ]
  },
  {
   "cell_type": "code",
   "execution_count": null,
   "metadata": {},
   "outputs": [],
   "source": [
    "def is_weekday(x):\n",
    "    \"\"\"1 = weekday\"\"\"\n",
    "    if x <= 4:\n",
    "        return 1\n",
    "    else:\n",
    "        return 0\n",
    "    \n",
    "df[\"createdDate\"] = pd.to_datetime(df[\"createdDate\"])\n",
    "df[\"year\"] = df[\"createdDate\"].dt.year\n",
    "df[\"month\"] = df[\"createdDate\"].dt.month.astype(np.int8)\n",
    "df[\"day\"] = df[\"createdDate\"].dt.day.astype(np.int8)\n",
    "\n",
    "df[\"weekday\"] = df[\"createdDate\"].dt.dayofweek.apply(is_weekday).astype(np.int8)\n",
    "\n",
    "# df.set_index([\"createdDate\"], inplace=True)"
   ]
  },
  {
   "cell_type": "markdown",
   "metadata": {},
   "source": [
    "### Drop columns"
   ]
  },
  {
   "cell_type": "code",
   "execution_count": null,
   "metadata": {},
   "outputs": [],
   "source": [
    "df[\"click\"] = df[\"logType\"].replace({\"V\":0, \"C\":1})"
   ]
  },
  {
   "cell_type": "code",
   "execution_count": null,
   "metadata": {},
   "outputs": [],
   "source": [
    "df.drop(columns=[\n",
    "    \"frameId\", # np.NaN 처리 하기전까지만 drop\n",
    "    \"adType\", # df CW 만 사용하기때문\n",
    "    \"auid\", # V-C Join 할때만 사용.\n",
    "    \"browser\",\n",
    "    \"logType\",\n",
    "    \"remoteIp\",\n",
    "    \"device\", #platform 이랑 동일\n",
    "    \"price\", # 전부 0\n",
    "    \"kno\", # 전부 0\n",
    "    \"kwrdSeq\", # 전부 0, np.NaN\n",
    "    \"frameCombiKey\", # 전부 np.NaN\n",
    "    \"createdDate\", # y,m,d,weekday 변환되었음\n",
    "], inplace=True)"
   ]
  },
  {
   "cell_type": "code",
   "execution_count": null,
   "metadata": {},
   "outputs": [],
   "source": [
    "# df.groupby([\"click\"]).count()"
   ]
  },
  {
   "cell_type": "code",
   "execution_count": null,
   "metadata": {},
   "outputs": [],
   "source": [
    "# # Column별 Missing Value 비율\n",
    "# round(df.isna().sum()/len(df)*100, 2)"
   ]
  },
  {
   "cell_type": "code",
   "execution_count": null,
   "metadata": {},
   "outputs": [],
   "source": [
    "# (df.nunique()\n",
    "#    .to_frame()\n",
    "#    .rename(columns={0:\"# unique values\"})\n",
    "#    .T\n",
    "#    .iloc[:, 4:]\n",
    "# )"
   ]
  },
  {
   "cell_type": "markdown",
   "metadata": {},
   "source": [
    "## forward-selection\n",
    ": <i>정확히 파악한 column들만 사용하여 Model 을 만든다. 그후 파악되면 하나하나 추가하여 feature를 늘린다</i>"
   ]
  },
  {
   "cell_type": "code",
   "execution_count": null,
   "metadata": {},
   "outputs": [],
   "source": [
    "cate_ord_cols = [\"mediaId\", \"inventoryId\", \"adverId\"]\n",
    "cate_ohe_cols = [\"platform\"]\n",
    "num_cols = [\"cpoint\", \"mpoint\", \"freqLog\", \"tTime\"]\n",
    "others = [\"year\", \"month\", \"day\", \"weekday\"]\n",
    "target = [\"click\"]\n",
    "\n",
    "use_cols = cate_ord_cols + cate_ohe_cols + num_cols + others + target\n",
    "df = df[use_cols]"
   ]
  },
  {
   "cell_type": "code",
   "execution_count": null,
   "metadata": {},
   "outputs": [],
   "source": [
    "y = df[\"click\"]\n",
    "X = df.drop(columns=[\"click\"])\n",
    "X_train, X_test, y_train, y_test = train_test_split(X, y, test_size=0.3, shuffle=True)"
   ]
  },
  {
   "cell_type": "code",
   "execution_count": null,
   "metadata": {},
   "outputs": [],
   "source": [
    "col_transformers = make_column_transformer(\n",
    "                    (OneHotEncoder(), cate_ohe_cols),\n",
    "                    (OrdinalEncoder(), cate_ord_cols),\n",
    "                    (StandardScaler(), num_cols),\n",
    "                    remainder='passthrough')\n",
    "\n",
    "X_train_r = col_transformers.fit_transform(X_train)\n",
    "X_test_r = col_transformers.fit_transform(X_test)"
   ]
  },
  {
   "cell_type": "markdown",
   "metadata": {},
   "source": [
    "하지만 아래 confusion matrix 를 보면, 모두 `0 (No Click)` 으로 예측하는것으로 보임."
   ]
  },
  {
   "cell_type": "code",
   "execution_count": null,
   "metadata": {},
   "outputs": [],
   "source": [
    "clf = LogisticRegression(penalty=\"l2\",\n",
    "                         max_iter=1000)\n",
    "clf.fit(X_train_r, y_train)\n",
    "\n",
    "y_pred = clf.predict(X_test_r)\n",
    "acc_sc = accuracy_score(y_test, y_pred)\n",
    "print(f\"Accuracy score = {round(acc_sc, 3)}\")\n",
    "\n",
    "plot_confusion_matrix(clf, X_test_r, y_test) "
   ]
  },
  {
   "cell_type": "markdown",
   "metadata": {},
   "source": [
    "### UnderSampling"
   ]
  },
  {
   "cell_type": "code",
   "execution_count": null,
   "metadata": {},
   "outputs": [],
   "source": [
    "target_col = \"click\"\n",
    "train_df = pd.concat([X_train, y_train], axis=1)\n",
    "imb_pp = BinaryImbClsRS(train_df, target_col, True)"
   ]
  },
  {
   "cell_type": "code",
   "execution_count": null,
   "metadata": {},
   "outputs": [],
   "source": [
    "df_us = imb_pp.random_undersample(-1)"
   ]
  },
  {
   "cell_type": "code",
   "execution_count": null,
   "metadata": {},
   "outputs": [],
   "source": [
    "y_train_us = df_us[target_col]\n",
    "X_train_us = df_us.drop(columns=[target_col])\n",
    "\n",
    "X_train_us = col_transformers.fit_transform(X_train_us)\n",
    "X_test = col_transformers.fit_transform(X_test)"
   ]
  },
  {
   "cell_type": "code",
   "execution_count": null,
   "metadata": {},
   "outputs": [],
   "source": [
    "clf = LogisticRegression(penalty=\"l2\",\n",
    "                         max_iter=1000)\n",
    "\n",
    "clf.fit(X_train_us, y_train_us)\n",
    "y_pred = clf.predict(X_test)\n",
    "acc_sc = accuracy_score(y_test, y_pred)\n",
    "print(f\"Accuracy score = {round(acc_sc, 3)}\")\n",
    "\n",
    "plot_confusion_matrix(clf, X_test, y_test) "
   ]
  },
  {
   "cell_type": "markdown",
   "metadata": {},
   "source": [
    "### OverSampling"
   ]
  },
  {
   "cell_type": "code",
   "execution_count": null,
   "metadata": {},
   "outputs": [],
   "source": [
    "df_os = imb_pp.random_oversample(-1)\n",
    "y_train_os = df_os[target_col]\n",
    "X_train_os = df_os.drop(columns=[target_col])\n",
    "\n",
    "X_train_os = col_transformers.fit_transform(X_train_os)"
   ]
  },
  {
   "cell_type": "code",
   "execution_count": null,
   "metadata": {},
   "outputs": [],
   "source": [
    "clf = LogisticRegression(penalty=\"l2\",\n",
    "                         max_iter=1000)\n",
    "\n",
    "clf.fit(X_train_os, y_train_os)\n",
    "y_pred = clf.predict(X_test)\n",
    "acc_sc = accuracy_score(y_test, y_pred)\n",
    "print(f\"Accuracy score = {round(acc_sc, 3)}\")\n",
    "\n",
    "plot_confusion_matrix(clf, X_test, y_test) "
   ]
  },
  {
   "cell_type": "markdown",
   "metadata": {},
   "source": [
    "### 저장된 transformer, 모델 로 예측"
   ]
  },
  {
   "cell_type": "code",
   "execution_count": null,
   "metadata": {},
   "outputs": [],
   "source": [
    "# Prediction w/ saved model\n",
    "transformer = joblib.load(\"trained_data/fitted_transformer.pkl\") \n",
    "binary_clf = joblib.load(\"trained_data/us_fit_model.pkl\")\n",
    "\n",
    "X_test_tf = transformer.transform(X_test)\n",
    "y_pred = binary_clf.predict(X_test_tf)\n",
    "acc_sc = accuracy_score(y_test, y_pred)\n",
    "print(f\"Accuracy score = {round(acc_sc, 3)}\")\n",
    "\n",
    "plot_confusion_matrix(binary_clf, X_test_tf, y_test) "
   ]
  },
  {
   "cell_type": "markdown",
   "metadata": {},
   "source": [
    "### JSON input to prediction"
   ]
  },
  {
   "cell_type": "code",
   "execution_count": null,
   "metadata": {},
   "outputs": [],
   "source": [
    "mediaId = \"bangab\"\n",
    "inventoryId = \"585494\"\n",
    "adverId = \"nutricore\"\n",
    "platform = \"W\"\n",
    "cpoint = 0.0\n",
    "mpoint = 0.0\n",
    "freqLog = 29\n",
    "tTime = 51\n",
    "year = 2021\n",
    "month = 11\n",
    "day = 11\n",
    "weekday = 0\n",
    "\n",
    "\n",
    "inp_data = {\n",
    "    \"mediaId\":mediaId,\n",
    "    \"inventoryId\":inventoryId,\n",
    "    \"adverId\":adverId,\n",
    "    \"platform\":platform,\n",
    "    \"cpoint\":cpoint,\n",
    "    \"mpoint\":mpoint,\n",
    "    \"freqLog\":freqLog,\n",
    "    \"tTime\":tTime,\n",
    "    \"year\":year,\n",
    "    \"month\":month,\n",
    "    \"day\":day,\n",
    "    \"weekday\":day\n",
    "}"
   ]
  },
  {
   "cell_type": "code",
   "execution_count": null,
   "metadata": {},
   "outputs": [],
   "source": [
    "pd.DataFrame({key:[item] for key, item in inp_data.items()})"
   ]
  },
  {
   "cell_type": "code",
   "execution_count": null,
   "metadata": {},
   "outputs": [],
   "source": [
    "inp_data"
   ]
  }
 ],
 "metadata": {
  "kernelspec": {
   "display_name": "Python 3",
   "language": "python",
   "name": "python3"
  },
  "language_info": {
   "codemirror_mode": {
    "name": "ipython",
    "version": 3
   },
   "file_extension": ".py",
   "mimetype": "text/x-python",
   "name": "python",
   "nbconvert_exporter": "python",
   "pygments_lexer": "ipython3",
   "version": "3.7.3"
  },
  "toc": {
   "base_numbering": 1,
   "nav_menu": {},
   "number_sections": true,
   "sideBar": true,
   "skip_h1_title": false,
   "title_cell": "Table of Contents",
   "title_sidebar": "Contents",
   "toc_cell": false,
   "toc_position": {},
   "toc_section_display": true,
   "toc_window_display": false
  }
 },
 "nbformat": 4,
 "nbformat_minor": 5
}
